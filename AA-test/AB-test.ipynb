{
 "cells": [
  {
   "cell_type": "markdown",
   "id": "09129bd0-df37-431b-99d3-4553722f7440",
   "metadata": {},
   "source": [
    "# Проведение АА-тестов"
   ]
  },
  {
   "cell_type": "markdown",
   "id": "abb670db-78af-4c3b-9971-5f7b6cdb9fe4",
   "metadata": {},
   "source": [
    "По данным с '2022-01-24' по '2023-01-30', нужно сделать симуляцию, как будто мы провели 10000 АА-тестов. На каждой итерации нам нужно сформировать подвыборки без повторения в 500 юзеров из 2 и 3 экспериментальной группы. Провести сравнение этих подвыборок t-testом. Сделать выводы об одинаковости выборок, корректоности работы системы сплитования"
   ]
  },
  {
   "cell_type": "markdown",
   "id": "7c005323-03fa-4bc7-8e58-b1a2a7c339ba",
   "metadata": {
    "tags": []
   },
   "source": [
    "## 1. Загрузка библиотек"
   ]
  },
  {
   "cell_type": "code",
   "execution_count": 1,
   "id": "566a34da-2bf4-4ceb-8070-1ac1b8aea982",
   "metadata": {},
   "outputs": [],
   "source": [
    "import pandas as pd\n",
    "import numpy as np\n",
    "import matplotlib.pyplot as plt\n",
    "import math\n",
    "from scipy import stats as st\n",
    "import seaborn as sns\n",
    "import hashlib\n",
    "import pandahouse as ph\n",
    "import random"
   ]
  },
  {
   "cell_type": "markdown",
   "id": "aa0e82d5-6915-4891-b954-2cfeb6a87b59",
   "metadata": {},
   "source": [
    "### 2. Выгрузка данных по условию"
   ]
  },
  {
   "cell_type": "code",
   "execution_count": 2,
   "id": "17a9f4d5-a583-407c-aa3f-be482c15d599",
   "metadata": {},
   "outputs": [],
   "source": [
    "# функция для выполнения запосов\n",
    "def select(q):\n",
    "    return ph.read_clickhouse(q, connection=connection)"
   ]
  },
  {
   "cell_type": "code",
   "execution_count": 3,
   "id": "ac8b4a9f-7ffc-495c-a9b3-0d214a07a80c",
   "metadata": {},
   "outputs": [],
   "source": [
    "# устанавливаем параметры\n",
    "connection = {\n",
    "    'host': 'https://clickhouse.lab.karpov.courses',\n",
    "    'password': '*******',\n",
    "    'user': '*******',\n",
    "    'database': '*******'\n",
    "}"
   ]
  },
  {
   "cell_type": "code",
   "execution_count": 4,
   "id": "97e13cca-ed1f-4584-88f6-c45da8065e48",
   "metadata": {},
   "outputs": [],
   "source": [
    "# Выгрузка данных по условию: '2022-01-24' по '2023-01-30' и 2 и 3 экспериментальной группы\n",
    "query = '''\n",
    "select distinct t1.user_id as iser_id, CTR, exp_group from\n",
    "(select user_id,\n",
    "       countIf(action = 'view') as views, \n",
    "       countIf(action = 'like') as likes,\n",
    "       countIf(user_id, action = 'like') / countIf(user_id, action='view') as CTR\n",
    "from {db}.feed_actions \n",
    "group by user_id \n",
    "having  toDate(time) >= '2023-01-24' and toDate(time) <= '2023-01-30' and exp_group in (2,3)\n",
    "order by views desc) t2\n",
    "join \n",
    "(select user_id, exp_group from {db}.feed_actions) t1\n",
    "using user_id\n",
    "\n",
    "'''"
   ]
  },
  {
   "cell_type": "code",
   "execution_count": 5,
   "id": "dc139f3a-8786-482b-b188-9b177a16d4be",
   "metadata": {},
   "outputs": [],
   "source": [
    "df_group = select(query)  # сохраняем данныe по условию: '2022-01-24' по '2023-01-30' и 2 и 3 экспериментальной группы"
   ]
  },
  {
   "cell_type": "code",
   "execution_count": 6,
   "id": "a053cf83-3a34-42ac-b528-5a4750bc2492",
   "metadata": {},
   "outputs": [
    {
     "data": {
      "text/html": [
       "<div>\n",
       "<style scoped>\n",
       "    .dataframe tbody tr th:only-of-type {\n",
       "        vertical-align: middle;\n",
       "    }\n",
       "\n",
       "    .dataframe tbody tr th {\n",
       "        vertical-align: top;\n",
       "    }\n",
       "\n",
       "    .dataframe thead th {\n",
       "        text-align: right;\n",
       "    }\n",
       "</style>\n",
       "<table border=\"1\" class=\"dataframe\">\n",
       "  <thead>\n",
       "    <tr style=\"text-align: right;\">\n",
       "      <th></th>\n",
       "      <th>iser_id</th>\n",
       "      <th>CTR</th>\n",
       "      <th>exp_group</th>\n",
       "    </tr>\n",
       "  </thead>\n",
       "  <tbody>\n",
       "    <tr>\n",
       "      <th>0</th>\n",
       "      <td>124755</td>\n",
       "      <td>0.162602</td>\n",
       "      <td>3</td>\n",
       "    </tr>\n",
       "    <tr>\n",
       "      <th>1</th>\n",
       "      <td>123760</td>\n",
       "      <td>0.163934</td>\n",
       "      <td>3</td>\n",
       "    </tr>\n",
       "    <tr>\n",
       "      <th>2</th>\n",
       "      <td>17547</td>\n",
       "      <td>0.173077</td>\n",
       "      <td>2</td>\n",
       "    </tr>\n",
       "    <tr>\n",
       "      <th>3</th>\n",
       "      <td>117685</td>\n",
       "      <td>0.141141</td>\n",
       "      <td>2</td>\n",
       "    </tr>\n",
       "    <tr>\n",
       "      <th>4</th>\n",
       "      <td>122945</td>\n",
       "      <td>0.150307</td>\n",
       "      <td>3</td>\n",
       "    </tr>\n",
       "    <tr>\n",
       "      <th>...</th>\n",
       "      <td>...</td>\n",
       "      <td>...</td>\n",
       "      <td>...</td>\n",
       "    </tr>\n",
       "    <tr>\n",
       "      <th>17044</th>\n",
       "      <td>114511</td>\n",
       "      <td>0.500000</td>\n",
       "      <td>3</td>\n",
       "    </tr>\n",
       "    <tr>\n",
       "      <th>17045</th>\n",
       "      <td>12827</td>\n",
       "      <td>0.000000</td>\n",
       "      <td>2</td>\n",
       "    </tr>\n",
       "    <tr>\n",
       "      <th>17046</th>\n",
       "      <td>119308</td>\n",
       "      <td>0.000000</td>\n",
       "      <td>3</td>\n",
       "    </tr>\n",
       "    <tr>\n",
       "      <th>17047</th>\n",
       "      <td>111366</td>\n",
       "      <td>0.000000</td>\n",
       "      <td>2</td>\n",
       "    </tr>\n",
       "    <tr>\n",
       "      <th>17048</th>\n",
       "      <td>26533</td>\n",
       "      <td>0.000000</td>\n",
       "      <td>2</td>\n",
       "    </tr>\n",
       "  </tbody>\n",
       "</table>\n",
       "<p>17049 rows × 3 columns</p>\n",
       "</div>"
      ],
      "text/plain": [
       "       iser_id       CTR  exp_group\n",
       "0       124755  0.162602          3\n",
       "1       123760  0.163934          3\n",
       "2        17547  0.173077          2\n",
       "3       117685  0.141141          2\n",
       "4       122945  0.150307          3\n",
       "...        ...       ...        ...\n",
       "17044   114511  0.500000          3\n",
       "17045    12827  0.000000          2\n",
       "17046   119308  0.000000          3\n",
       "17047   111366  0.000000          2\n",
       "17048    26533  0.000000          2\n",
       "\n",
       "[17049 rows x 3 columns]"
      ]
     },
     "execution_count": 6,
     "metadata": {},
     "output_type": "execute_result"
    }
   ],
   "source": [
    "df_group"
   ]
  },
  {
   "cell_type": "markdown",
   "id": "74681898-a520-4bbb-8f0e-5e1a1f0309e7",
   "metadata": {},
   "source": [
    "### 3. Проверка гипотез"
   ]
  },
  {
   "cell_type": "markdown",
   "id": "464a620b-dddf-4b38-9435-d1f20679f410",
   "metadata": {},
   "source": [
    "Нулевая гипотеза(Н0) – средние двух выборок равны (средние пользовательские CTR равны), альтернативная гипотеза(Н1) – средние пользовательские CTR 2 и 3 экспериментальной группы различаются."
   ]
  },
  {
   "cell_type": "code",
   "execution_count": 7,
   "id": "41d3da0a-1b52-4f72-b57b-59e625170859",
   "metadata": {},
   "outputs": [],
   "source": [
    "alpha = .05 # критический уровень статистической значимости"
   ]
  },
  {
   "cell_type": "code",
   "execution_count": 8,
   "id": "ea9dc06f-1e4d-482e-b3c3-e5f2023236d3",
   "metadata": {},
   "outputs": [
    {
     "name": "stdout",
     "output_type": "stream",
     "text": [
      "p-значение: 0.40263780485554385\n",
      "Не получилось отвергнуть нулевую гипотезу\n",
      "p-значение: 0.8508817253586514\n",
      "Не получилось отвергнуть нулевую гипотезу\n",
      "p-значение: 0.9947046173068623\n",
      "Не получилось отвергнуть нулевую гипотезу\n"
     ]
    }
   ],
   "source": [
    "# проверка работы цикла и t-теста \n",
    "for i in range(3):\n",
    "    group_2 = random.sample(set(df_group[df_group.exp_group == 2].iser_id), 5)\n",
    "    group_3 = random.sample(set(df_group[df_group.exp_group == 3].iser_id), 5)\n",
    "    df_group_2 = df_group[df_group['iser_id'].isin(group_2)]  \n",
    "    df_group_3 = df_group[df_group['iser_id'].isin(group_3)]\n",
    "    results = st.ttest_ind(df_group_2.CTR, \n",
    "           df_group_3.CTR, equal_var = False)\n",
    "    print('p-значение:', results.pvalue)\n",
    "    if (results.pvalue < alpha):\n",
    "        print(\"Отвергаем нулевую гипотезу\")\n",
    "    else:\n",
    "        print(\"Не получилось отвергнуть нулевую гипотезу\")\n",
    "    \n",
    "    "
   ]
  },
  {
   "cell_type": "code",
   "execution_count": 9,
   "id": "26aedef8-b994-4e24-b986-02e309d1df80",
   "metadata": {},
   "outputs": [],
   "source": [
    "l = [] # пустой список"
   ]
  },
  {
   "cell_type": "code",
   "execution_count": 10,
   "id": "db776171-5cb9-4395-8a58-1173970f2d69",
   "metadata": {},
   "outputs": [],
   "source": [
    "for i in range(10000):\n",
    "    group_2 = random.sample(set(df_group[df_group.exp_group == 2].iser_id), 500)  # рандомная выборка 500 элементов из датафрейма df_group\n",
    "    group_3 = random.sample(set(df_group[df_group.exp_group == 3].iser_id), 500)\n",
    "    df_group_2 = df_group[df_group['iser_id'].isin(group_2)]  # фильтруем датафрейм с данными по iser_id \n",
    "    df_group_3 = df_group[df_group['iser_id'].isin(group_3)]\n",
    "    results = st.ttest_ind(df_group_2.CTR, \n",
    "           df_group_3.CTR, equal_var = False)\n",
    "    l.append(results.pvalue) # добавляем в список значения p-value"
   ]
  },
  {
   "cell_type": "code",
   "execution_count": 11,
   "id": "01ff361a-c857-4cb1-969e-db203a105062",
   "metadata": {},
   "outputs": [
    {
     "data": {
      "image/png": "[encoded data removed]",
      "text/plain": [
       "<Figure size 432x288 with 1 Axes>"
      ]
     },
     "metadata": {
      "needs_background": "light"
     },
     "output_type": "display_data"
    }
   ],
   "source": [
    "plt.title('Распределения получившихся p-values')\n",
    "plt.hist(l, bins=[0.05, 0.1, 0.15, 0.2, 0.25, 0.3, 0.35, 0.4, 0.45, 0.5, 0.55, 0.6, 0.65, 0.7, 0.85, 0.9, 0.95, 1])\n",
    "plt.xlabel('p-value')\n",
    "plt.ylabel('count')\n",
    "plt.show()"
   ]
  },
  {
   "cell_type": "code",
   "execution_count": 12,
   "id": "68fdcc0a-b92c-4279-a89f-0a3d8587ef90",
   "metadata": {},
   "outputs": [
    {
     "name": "stdout",
     "output_type": "stream",
     "text": [
      "Среднее значение p-value: 0.5066112181294166\n"
     ]
    }
   ],
   "source": [
    "print('Среднее значение p-value:', sum(l) / len(l))"
   ]
  },
  {
   "cell_type": "code",
   "execution_count": 13,
   "id": "1c1bbc86-7bb9-4a93-8e9f-9eeb962df600",
   "metadata": {},
   "outputs": [
    {
     "name": "stdout",
     "output_type": "stream",
     "text": [
      "Процент p-values меньше либо равен 0.05: 4.760000000000001 %\n"
     ]
    }
   ],
   "source": [
    "print('Процент p-values меньше либо равен 0.05:', len([item for item in l if item <= 0.05]) / len(l) * 100, '%')"
   ]
  },
  {
   "cell_type": "markdown",
   "id": "2a8ce168-2fc4-45b6-8b31-e5e9ce00415e",
   "metadata": {},
   "source": [
    "### Вывод"
   ]
  },
  {
   "cell_type": "markdown",
   "id": "cc52ab78-0101-4e80-a31c-a5314c36c618",
   "metadata": {},
   "source": [
    "Рассматривая распределение получившихся p-values и учитывая, что процент тестов, которые показывают изменения, т.е. отвергается нулевая гипотеза о равенстве,  меньше  чем в 5% случаях от всего количество проведенных тестов.\n",
    "Согласно проведенному анализу, можно прийти к выводу, что выборки одинаковые, т.е. наша система сплитования корректно работает"
   ]
  },
  {
   "cell_type": "code",
   "execution_count": null,
   "id": "156a21a7-c802-4287-a52c-6e4384ffacc3",
   "metadata": {},
   "outputs": [],
   "source": []
  }
 ],
 "metadata": {
  "kernelspec": {
   "display_name": "Python 3 (ipykernel)",
   "language": "python",
   "name": "python3"
  },
  "language_info": {
   "codemirror_mode": {
    "name": "ipython",
    "version": 3
   },
   "file_extension": ".py",
   "mimetype": "text/x-python",
   "name": "python",
   "nbconvert_exporter": "python",
   "pygments_lexer": "ipython3",
   "version": "3.9.7"
  }
 },
 "nbformat": 4,
 "nbformat_minor": 5
}
