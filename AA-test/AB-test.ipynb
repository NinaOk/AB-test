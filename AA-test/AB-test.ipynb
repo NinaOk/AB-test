{
 "cells": [
  {
   "cell_type": "markdown",
   "id": "09129bd0-df37-431b-99d3-4553722f7440",
   "metadata": {},
   "source": [
    "# Проведение АА-тестов"
   ]
  },
  {
   "cell_type": "markdown",
   "id": "abb670db-78af-4c3b-9971-5f7b6cdb9fe4",
   "metadata": {},
   "source": [
    "По данным с '2022-01-24' по '2023-01-30', нужно сделать симуляцию, как будто мы провели 10000 АА-тестов. На каждой итерации нам нужно сформировать подвыборки без повторения в 500 юзеров из 2 и 3 экспериментальной группы. Провести сравнение этих подвыборок t-testом. Сделать выводы об одинаковости выборок, корректоности работы системы сплитования"
   ]
  },
  {
   "cell_type": "markdown",
   "id": "7c005323-03fa-4bc7-8e58-b1a2a7c339ba",
   "metadata": {
    "tags": []
   },
   "source": [
    "## 1. Загрузка библиотек"
   ]
  },
  {
   "cell_type": "code",
   "execution_count": 1,
   "id": "566a34da-2bf4-4ceb-8070-1ac1b8aea982",
   "metadata": {},
   "outputs": [],
   "source": [
    "import pandas as pd\n",
    "import numpy as np\n",
    "import matplotlib.pyplot as plt\n",
    "import math\n",
    "from scipy import stats as st\n",
    "import seaborn as sns\n",
    "import hashlib\n",
    "import pandahouse as ph\n",
    "import random"
   ]
  },
  {
   "cell_type": "markdown",
   "id": "aa0e82d5-6915-4891-b954-2cfeb6a87b59",
   "metadata": {},
   "source": [
    "### 2. Выгрузка данных по условию"
   ]
  },
  {
   "cell_type": "code",
   "execution_count": 2,
   "id": "17a9f4d5-a583-407c-aa3f-be482c15d599",
   "metadata": {},
   "outputs": [],
   "source": [
    "# функция для выполнения запосов\n",
    "def select(q):\n",
    "    return ph.read_clickhouse(q, connection=connection)"
   ]
  },
  {
   "cell_type": "code",
   "execution_count": 3,
   "id": "ac8b4a9f-7ffc-495c-a9b3-0d214a07a80c",
   "metadata": {},
   "outputs": [],
   "source": [
    "# устанавливаем параметры\n",
    "connection = {\n",
    "    'host': 'https://clickhouse.lab.karpov.courses',\n",
    "    'password': 'dpo_python_2020',\n",
    "    'user': '*****',\n",
    "    'database': '*****'\n",
    "}"
   ]
  },
  {
   "cell_type": "code",
   "execution_count": 4,
   "id": "d79edf75-15e7-4c58-9f59-27548babd217",
   "metadata": {},
   "outputs": [],
   "source": [
    "# Выгрузка данных по условию: '2022-01-24' по '2023-01-30' и 2 и 3 экспериментальной группы\n",
    "query = '''SELECT exp_group, \n",
    "    user_id,\n",
    "    sum(action = 'like') as likes,\n",
    "    sum(action = 'view') as views,\n",
    "    likes/views as ctr\n",
    "FROM {db}.feed_actions \n",
    "WHERE toDate(time) between '2023-01-24' and '2023-01-30'\n",
    "    and exp_group in (2,3)\n",
    "GROUP BY exp_group, user_id\n",
    "'''"
   ]
  },
  {
   "cell_type": "code",
   "execution_count": 5,
   "id": "dc139f3a-8786-482b-b188-9b177a16d4be",
   "metadata": {},
   "outputs": [],
   "source": [
    "df_group = select(query)  # сохраняем данныe по условию: '2022-01-24' по '2023-01-30' и 2 и 3 экспериментальной группы"
   ]
  },
  {
   "cell_type": "code",
   "execution_count": 6,
   "id": "a053cf83-3a34-42ac-b528-5a4750bc2492",
   "metadata": {},
   "outputs": [
    {
     "data": {
      "text/html": [
       "<div>\n",
       "<style scoped>\n",
       "    .dataframe tbody tr th:only-of-type {\n",
       "        vertical-align: middle;\n",
       "    }\n",
       "\n",
       "    .dataframe tbody tr th {\n",
       "        vertical-align: top;\n",
       "    }\n",
       "\n",
       "    .dataframe thead th {\n",
       "        text-align: right;\n",
       "    }\n",
       "</style>\n",
       "<table border=\"1\" class=\"dataframe\">\n",
       "  <thead>\n",
       "    <tr style=\"text-align: right;\">\n",
       "      <th></th>\n",
       "      <th>exp_group</th>\n",
       "      <th>user_id</th>\n",
       "      <th>likes</th>\n",
       "      <th>views</th>\n",
       "      <th>ctr</th>\n",
       "    </tr>\n",
       "  </thead>\n",
       "  <tbody>\n",
       "    <tr>\n",
       "      <th>0</th>\n",
       "      <td>3</td>\n",
       "      <td>115383</td>\n",
       "      <td>11</td>\n",
       "      <td>36</td>\n",
       "      <td>0.305556</td>\n",
       "    </tr>\n",
       "    <tr>\n",
       "      <th>1</th>\n",
       "      <td>3</td>\n",
       "      <td>123580</td>\n",
       "      <td>15</td>\n",
       "      <td>92</td>\n",
       "      <td>0.163043</td>\n",
       "    </tr>\n",
       "    <tr>\n",
       "      <th>2</th>\n",
       "      <td>2</td>\n",
       "      <td>131473</td>\n",
       "      <td>26</td>\n",
       "      <td>148</td>\n",
       "      <td>0.175676</td>\n",
       "    </tr>\n",
       "    <tr>\n",
       "      <th>3</th>\n",
       "      <td>2</td>\n",
       "      <td>23985</td>\n",
       "      <td>12</td>\n",
       "      <td>66</td>\n",
       "      <td>0.181818</td>\n",
       "    </tr>\n",
       "    <tr>\n",
       "      <th>4</th>\n",
       "      <td>2</td>\n",
       "      <td>24523</td>\n",
       "      <td>17</td>\n",
       "      <td>120</td>\n",
       "      <td>0.141667</td>\n",
       "    </tr>\n",
       "    <tr>\n",
       "      <th>...</th>\n",
       "      <td>...</td>\n",
       "      <td>...</td>\n",
       "      <td>...</td>\n",
       "      <td>...</td>\n",
       "      <td>...</td>\n",
       "    </tr>\n",
       "    <tr>\n",
       "      <th>17044</th>\n",
       "      <td>3</td>\n",
       "      <td>122008</td>\n",
       "      <td>4</td>\n",
       "      <td>31</td>\n",
       "      <td>0.129032</td>\n",
       "    </tr>\n",
       "    <tr>\n",
       "      <th>17045</th>\n",
       "      <td>2</td>\n",
       "      <td>25383</td>\n",
       "      <td>16</td>\n",
       "      <td>57</td>\n",
       "      <td>0.280702</td>\n",
       "    </tr>\n",
       "    <tr>\n",
       "      <th>17046</th>\n",
       "      <td>3</td>\n",
       "      <td>122190</td>\n",
       "      <td>25</td>\n",
       "      <td>74</td>\n",
       "      <td>0.337838</td>\n",
       "    </tr>\n",
       "    <tr>\n",
       "      <th>17047</th>\n",
       "      <td>2</td>\n",
       "      <td>108927</td>\n",
       "      <td>8</td>\n",
       "      <td>33</td>\n",
       "      <td>0.242424</td>\n",
       "    </tr>\n",
       "    <tr>\n",
       "      <th>17048</th>\n",
       "      <td>2</td>\n",
       "      <td>17310</td>\n",
       "      <td>2</td>\n",
       "      <td>14</td>\n",
       "      <td>0.142857</td>\n",
       "    </tr>\n",
       "  </tbody>\n",
       "</table>\n",
       "<p>17049 rows × 5 columns</p>\n",
       "</div>"
      ],
      "text/plain": [
       "       exp_group  user_id  likes  views       ctr\n",
       "0              3   115383     11     36  0.305556\n",
       "1              3   123580     15     92  0.163043\n",
       "2              2   131473     26    148  0.175676\n",
       "3              2    23985     12     66  0.181818\n",
       "4              2    24523     17    120  0.141667\n",
       "...          ...      ...    ...    ...       ...\n",
       "17044          3   122008      4     31  0.129032\n",
       "17045          2    25383     16     57  0.280702\n",
       "17046          3   122190     25     74  0.337838\n",
       "17047          2   108927      8     33  0.242424\n",
       "17048          2    17310      2     14  0.142857\n",
       "\n",
       "[17049 rows x 5 columns]"
      ]
     },
     "execution_count": 6,
     "metadata": {},
     "output_type": "execute_result"
    }
   ],
   "source": [
    "df_group"
   ]
  },
  {
   "cell_type": "markdown",
   "id": "74681898-a520-4bbb-8f0e-5e1a1f0309e7",
   "metadata": {},
   "source": [
    "### 3. Проверка гипотез"
   ]
  },
  {
   "cell_type": "markdown",
   "id": "464a620b-dddf-4b38-9435-d1f20679f410",
   "metadata": {},
   "source": [
    "Нулевая гипотеза(Н0) – средние двух выборок равны (средние пользовательские CTR равны), альтернативная гипотеза(Н1) – средние пользовательские CTR 2 и 3 экспериментальной группы различаются."
   ]
  },
  {
   "cell_type": "code",
   "execution_count": 7,
   "id": "41d3da0a-1b52-4f72-b57b-59e625170859",
   "metadata": {},
   "outputs": [],
   "source": [
    "alpha = .05 # критический уровень статистической значимости"
   ]
  },
  {
   "cell_type": "code",
   "execution_count": 9,
   "id": "db776171-5cb9-4395-8a58-1173970f2d69",
   "metadata": {},
   "outputs": [],
   "source": [
    "# Создадим вспомогательную функцию\n",
    "def simulation (df1, df2, n_users, n_tests):\n",
    "    p_value = []\n",
    "    for i in range(n_tests):\n",
    "        sample_1 = df1.sample(n_users, replace=False)\n",
    "        sample_2 = df2.sample(n_users, replace=False)\n",
    "        t_test = st.ttest_ind(sample_1, sample_2, equal_var=False)\n",
    "        p_value.append(t_test[1])\n",
    "    return p_value"
   ]
  },
  {
   "cell_type": "code",
   "execution_count": 10,
   "id": "ba77a64f-139e-4c6e-9b70-848c79a7b27b",
   "metadata": {},
   "outputs": [],
   "source": [
    "p_value = simulation(df_group[df_group.exp_group == 2].ctr, df_group[df_group.exp_group == 3].ctr, 500, 10000)"
   ]
  },
  {
   "cell_type": "code",
   "execution_count": 11,
   "id": "ac8118d7-d94b-4c03-a82d-14d4290fe350",
   "metadata": {},
   "outputs": [
    {
     "data": {
      "image/png": "[encoded data removed]",
      "text/plain": [
       "<Figure size 432x288 with 1 Axes>"
      ]
     },
     "metadata": {
      "needs_background": "light"
     },
     "output_type": "display_data"
    }
   ],
   "source": [
    "sns.histplot(p_value)\n",
    "plt.title('Распределения получившихся p-values')\n",
    "plt.xlabel('p-value')\n",
    "plt.show()"
   ]
  },
  {
   "cell_type": "code",
   "execution_count": 12,
   "id": "68fdcc0a-b92c-4279-a89f-0a3d8587ef90",
   "metadata": {},
   "outputs": [
    {
     "name": "stdout",
     "output_type": "stream",
     "text": [
      "Среднее значение p-value: 0.5057931261265185\n"
     ]
    }
   ],
   "source": [
    "print('Среднее значение p-value:', sum(p_value) / len(p_value))"
   ]
  },
  {
   "cell_type": "code",
   "execution_count": 13,
   "id": "1c1bbc86-7bb9-4a93-8e9f-9eeb962df600",
   "metadata": {},
   "outputs": [
    {
     "name": "stdout",
     "output_type": "stream",
     "text": [
      "Процент p-values меньше либо равен 0.05: 4.63 %\n"
     ]
    }
   ],
   "source": [
    "print('Процент p-values меньше либо равен 0.05:', len([item for item in p_value if item <= 0.05]) / len(p_value) * 100, '%')"
   ]
  },
  {
   "cell_type": "markdown",
   "id": "2a8ce168-2fc4-45b6-8b31-e5e9ce00415e",
   "metadata": {},
   "source": [
    "### Вывод"
   ]
  },
  {
   "cell_type": "markdown",
   "id": "cc52ab78-0101-4e80-a31c-a5314c36c618",
   "metadata": {},
   "source": [
    "Рассматривая распределение получившихся p-values и учитывая, что процент тестов, которые показывают изменения, т.е. отвергается нулевая гипотеза о равенстве,  меньше  чем в 5% случаях от всего количество проведенных тестов.\n",
    "Согласно проведенному анализу, можно прийти к выводу, что выборки одинаковые, т.е. наша система сплитования корректно работает"
   ]
  },
  {
   "cell_type": "code",
   "execution_count": null,
   "id": "156a21a7-c802-4287-a52c-6e4384ffacc3",
   "metadata": {},
   "outputs": [],
   "source": []
  }
 ],
 "metadata": {
  "kernelspec": {
   "display_name": "Python 3 (ipykernel)",
   "language": "python",
   "name": "python3"
  },
  "language_info": {
   "codemirror_mode": {
    "name": "ipython",
    "version": 3
   },
   "file_extension": ".py",
   "mimetype": "text/x-python",
   "name": "python",
   "nbconvert_exporter": "python",
   "pygments_lexer": "ipython3",
   "version": "3.8.10"
  }
 },
 "nbformat": 4,
 "nbformat_minor": 5
}
